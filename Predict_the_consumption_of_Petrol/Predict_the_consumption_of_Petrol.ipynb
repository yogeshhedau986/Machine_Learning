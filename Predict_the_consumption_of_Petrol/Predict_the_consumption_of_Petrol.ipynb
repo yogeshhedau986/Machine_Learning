{
 "cells": [
  {
   "cell_type": "markdown",
   "metadata": {
    "id": "wGkXA4dKYd5e"
   },
   "source": [
    "\n",
    "\n",
    "## Problem Statement\n",
    "\n",
    "Use Multiple Linear Regression to **predict the consumption of petrol** given relevant variables are the petrol tax, the per capita, income, the number of miles of paved highway, and the proportion of the population with driver's licenses.\n",
    "\n",
    "\n",
    "## Question 1 - Exploratory Data Analysis\n",
    "\n",
    "*Read the dataset given in file named **'petrol.csv'**. Check the statistical details of the dataset.*\n",
    "\n",
    "**Hint:** You can use **df.describe()**"
   ]
  },
  {
   "cell_type": "code",
   "execution_count": 1,
   "metadata": {
    "id": "tUtI7QIaYd5h"
   },
   "outputs": [],
   "source": [
    "# Import the numpy and pandas package\n",
    "\n",
    "import numpy as np\n",
    "import pandas as pd\n",
    "\n",
    "# Data Visualisation\n",
    "import matplotlib.pyplot as plt \n",
    "import seaborn as sns\n",
    "\n",
    "import warnings\n",
    "warnings.filterwarnings('ignore')"
   ]
  },
  {
   "cell_type": "code",
   "execution_count": 2,
   "metadata": {
    "id": "ZE4GgafrYd5s"
   },
   "outputs": [
    {
     "data": {
      "text/html": [
       "<div>\n",
       "<style scoped>\n",
       "    .dataframe tbody tr th:only-of-type {\n",
       "        vertical-align: middle;\n",
       "    }\n",
       "\n",
       "    .dataframe tbody tr th {\n",
       "        vertical-align: top;\n",
       "    }\n",
       "\n",
       "    .dataframe thead th {\n",
       "        text-align: right;\n",
       "    }\n",
       "</style>\n",
       "<table border=\"1\" class=\"dataframe\">\n",
       "  <thead>\n",
       "    <tr style=\"text-align: right;\">\n",
       "      <th></th>\n",
       "      <th>Petrol_tax</th>\n",
       "      <th>Average_income</th>\n",
       "      <th>Paved_Highways</th>\n",
       "      <th>Population_Driver_licence(%)</th>\n",
       "      <th>Petrol_Consumption</th>\n",
       "    </tr>\n",
       "  </thead>\n",
       "  <tbody>\n",
       "    <tr>\n",
       "      <th>0</th>\n",
       "      <td>9.0</td>\n",
       "      <td>3571</td>\n",
       "      <td>1976</td>\n",
       "      <td>0.525</td>\n",
       "      <td>541</td>\n",
       "    </tr>\n",
       "    <tr>\n",
       "      <th>1</th>\n",
       "      <td>9.0</td>\n",
       "      <td>4092</td>\n",
       "      <td>1250</td>\n",
       "      <td>0.572</td>\n",
       "      <td>524</td>\n",
       "    </tr>\n",
       "    <tr>\n",
       "      <th>2</th>\n",
       "      <td>9.0</td>\n",
       "      <td>3865</td>\n",
       "      <td>1586</td>\n",
       "      <td>0.580</td>\n",
       "      <td>561</td>\n",
       "    </tr>\n",
       "    <tr>\n",
       "      <th>3</th>\n",
       "      <td>7.5</td>\n",
       "      <td>4870</td>\n",
       "      <td>2351</td>\n",
       "      <td>0.529</td>\n",
       "      <td>414</td>\n",
       "    </tr>\n",
       "    <tr>\n",
       "      <th>4</th>\n",
       "      <td>8.0</td>\n",
       "      <td>4399</td>\n",
       "      <td>431</td>\n",
       "      <td>0.544</td>\n",
       "      <td>410</td>\n",
       "    </tr>\n",
       "  </tbody>\n",
       "</table>\n",
       "</div>"
      ],
      "text/plain": [
       "   Petrol_tax  Average_income  Paved_Highways  Population_Driver_licence(%)  \\\n",
       "0         9.0            3571            1976                         0.525   \n",
       "1         9.0            4092            1250                         0.572   \n",
       "2         9.0            3865            1586                         0.580   \n",
       "3         7.5            4870            2351                         0.529   \n",
       "4         8.0            4399             431                         0.544   \n",
       "\n",
       "   Petrol_Consumption  \n",
       "0                 541  \n",
       "1                 524  \n",
       "2                 561  \n",
       "3                 414  \n",
       "4                 410  "
      ]
     },
     "execution_count": 2,
     "metadata": {},
     "output_type": "execute_result"
    }
   ],
   "source": [
    "df= pd.DataFrame(pd.read_csv(\"petrol.csv\"))\n",
    "df.head()"
   ]
  },
  {
   "cell_type": "code",
   "execution_count": 3,
   "metadata": {},
   "outputs": [
    {
     "data": {
      "text/plain": [
       "(48, 5)"
      ]
     },
     "execution_count": 3,
     "metadata": {},
     "output_type": "execute_result"
    }
   ],
   "source": [
    "df1=df\n",
    "df.shape"
   ]
  },
  {
   "cell_type": "code",
   "execution_count": 4,
   "metadata": {
    "id": "WOtmw6NZYd5_"
   },
   "outputs": [
    {
     "data": {
      "text/plain": [
       "Petrol_tax                      0\n",
       "Average_income                  0\n",
       "Paved_Highways                  0\n",
       "Population_Driver_licence(%)    0\n",
       "Petrol_Consumption              0\n",
       "dtype: int64"
      ]
     },
     "execution_count": 4,
     "metadata": {},
     "output_type": "execute_result"
    }
   ],
   "source": [
    "df.isnull().sum()"
   ]
  },
  {
   "cell_type": "code",
   "execution_count": 5,
   "metadata": {},
   "outputs": [
    {
     "name": "stdout",
     "output_type": "stream",
     "text": [
      "<class 'pandas.core.frame.DataFrame'>\n",
      "RangeIndex: 48 entries, 0 to 47\n",
      "Data columns (total 5 columns):\n",
      " #   Column                        Non-Null Count  Dtype  \n",
      "---  ------                        --------------  -----  \n",
      " 0   Petrol_tax                    48 non-null     float64\n",
      " 1   Average_income                48 non-null     int64  \n",
      " 2   Paved_Highways                48 non-null     int64  \n",
      " 3   Population_Driver_licence(%)  48 non-null     float64\n",
      " 4   Petrol_Consumption            48 non-null     int64  \n",
      "dtypes: float64(2), int64(3)\n",
      "memory usage: 2.0 KB\n"
     ]
    }
   ],
   "source": [
    "df.info()"
   ]
  },
  {
   "cell_type": "code",
   "execution_count": 6,
   "metadata": {},
   "outputs": [
    {
     "data": {
      "text/html": [
       "<div>\n",
       "<style scoped>\n",
       "    .dataframe tbody tr th:only-of-type {\n",
       "        vertical-align: middle;\n",
       "    }\n",
       "\n",
       "    .dataframe tbody tr th {\n",
       "        vertical-align: top;\n",
       "    }\n",
       "\n",
       "    .dataframe thead th {\n",
       "        text-align: right;\n",
       "    }\n",
       "</style>\n",
       "<table border=\"1\" class=\"dataframe\">\n",
       "  <thead>\n",
       "    <tr style=\"text-align: right;\">\n",
       "      <th></th>\n",
       "      <th>Petrol_tax</th>\n",
       "      <th>Average_income</th>\n",
       "      <th>Paved_Highways</th>\n",
       "      <th>Population_Driver_licence(%)</th>\n",
       "      <th>Petrol_Consumption</th>\n",
       "    </tr>\n",
       "  </thead>\n",
       "  <tbody>\n",
       "    <tr>\n",
       "      <th>count</th>\n",
       "      <td>48.000000</td>\n",
       "      <td>48.000000</td>\n",
       "      <td>48.000000</td>\n",
       "      <td>48.000000</td>\n",
       "      <td>48.000000</td>\n",
       "    </tr>\n",
       "    <tr>\n",
       "      <th>mean</th>\n",
       "      <td>7.668333</td>\n",
       "      <td>4241.833333</td>\n",
       "      <td>5565.416667</td>\n",
       "      <td>0.570333</td>\n",
       "      <td>576.770833</td>\n",
       "    </tr>\n",
       "    <tr>\n",
       "      <th>std</th>\n",
       "      <td>0.950770</td>\n",
       "      <td>573.623768</td>\n",
       "      <td>3491.507166</td>\n",
       "      <td>0.055470</td>\n",
       "      <td>111.885816</td>\n",
       "    </tr>\n",
       "    <tr>\n",
       "      <th>min</th>\n",
       "      <td>5.000000</td>\n",
       "      <td>3063.000000</td>\n",
       "      <td>431.000000</td>\n",
       "      <td>0.451000</td>\n",
       "      <td>344.000000</td>\n",
       "    </tr>\n",
       "    <tr>\n",
       "      <th>25%</th>\n",
       "      <td>7.000000</td>\n",
       "      <td>3739.000000</td>\n",
       "      <td>3110.250000</td>\n",
       "      <td>0.529750</td>\n",
       "      <td>509.500000</td>\n",
       "    </tr>\n",
       "    <tr>\n",
       "      <th>50%</th>\n",
       "      <td>7.500000</td>\n",
       "      <td>4298.000000</td>\n",
       "      <td>4735.500000</td>\n",
       "      <td>0.564500</td>\n",
       "      <td>568.500000</td>\n",
       "    </tr>\n",
       "    <tr>\n",
       "      <th>75%</th>\n",
       "      <td>8.125000</td>\n",
       "      <td>4578.750000</td>\n",
       "      <td>7156.000000</td>\n",
       "      <td>0.595250</td>\n",
       "      <td>632.750000</td>\n",
       "    </tr>\n",
       "    <tr>\n",
       "      <th>max</th>\n",
       "      <td>10.000000</td>\n",
       "      <td>5342.000000</td>\n",
       "      <td>17782.000000</td>\n",
       "      <td>0.724000</td>\n",
       "      <td>968.000000</td>\n",
       "    </tr>\n",
       "  </tbody>\n",
       "</table>\n",
       "</div>"
      ],
      "text/plain": [
       "       Petrol_tax  Average_income  Paved_Highways  \\\n",
       "count   48.000000       48.000000       48.000000   \n",
       "mean     7.668333     4241.833333     5565.416667   \n",
       "std      0.950770      573.623768     3491.507166   \n",
       "min      5.000000     3063.000000      431.000000   \n",
       "25%      7.000000     3739.000000     3110.250000   \n",
       "50%      7.500000     4298.000000     4735.500000   \n",
       "75%      8.125000     4578.750000     7156.000000   \n",
       "max     10.000000     5342.000000    17782.000000   \n",
       "\n",
       "       Population_Driver_licence(%)  Petrol_Consumption  \n",
       "count                     48.000000           48.000000  \n",
       "mean                       0.570333          576.770833  \n",
       "std                        0.055470          111.885816  \n",
       "min                        0.451000          344.000000  \n",
       "25%                        0.529750          509.500000  \n",
       "50%                        0.564500          568.500000  \n",
       "75%                        0.595250          632.750000  \n",
       "max                        0.724000          968.000000  "
      ]
     },
     "execution_count": 6,
     "metadata": {},
     "output_type": "execute_result"
    }
   ],
   "source": [
    "df.describe()"
   ]
  },
  {
   "cell_type": "markdown",
   "metadata": {
    "id": "wwA45Y5eYd6I"
   },
   "source": [
    "# Question 2 - Cap outliers \n",
    "\n",
    "Find the outliers and cap them. (Use (Q1 - 1.5 * IQR) as the minimum cap and (Q3 + 1.5 * IQR) as the max cap. The decision criteria is you should consider the datapoints which only falls within this range. The data points which fall outside this range are outliers and the entire row needs to be removed"
   ]
  },
  {
   "cell_type": "code",
   "execution_count": 7,
   "metadata": {},
   "outputs": [],
   "source": [
    "sns.set(rc={'figure.figsize':('11.7,8.27')})"
   ]
  },
  {
   "cell_type": "code",
   "execution_count": 8,
   "metadata": {},
   "outputs": [
    {
     "data": {
      "text/plain": [
       "<AxesSubplot:>"
      ]
     },
     "execution_count": 8,
     "metadata": {},
     "output_type": "execute_result"
    },
    {
     "data": {
      "image/png": "[encoded data removed]",
      "text/plain": [
       "<Figure size 842.4x595.44 with 1 Axes>"
      ]
     },
     "metadata": {},
     "output_type": "display_data"
    }
   ],
   "source": [
    "df.boxplot()"
   ]
  },
  {
   "cell_type": "markdown",
   "metadata": {},
   "source": [
    "As we can see in above boxplot there are outliers in our dataset so we are capping the outliers in dataset.\n",
    "we are capping the outliers by IQR(Interquartile Range) Method."
   ]
  },
  {
   "cell_type": "markdown",
   "metadata": {},
   "source": [
    "#### Petrol_tax"
   ]
  },
  {
   "cell_type": "code",
   "execution_count": 9,
   "metadata": {},
   "outputs": [
    {
     "name": "stdout",
     "output_type": "stream",
     "text": [
      "IQR of Petrol Tax = 1.125\n"
     ]
    },
    {
     "data": {
      "text/plain": [
       "(46, 5)"
      ]
     },
     "execution_count": 9,
     "metadata": {},
     "output_type": "execute_result"
    }
   ],
   "source": [
    "#Finding the IQR\n",
    "Q1 = df['Petrol_tax'].quantile(0.25)\n",
    "Q3 = df['Petrol_tax'].quantile(0.75)\n",
    "IQR =Q3-Q1\n",
    "print('IQR of Petrol Tax =', IQR)\n",
    "#Finding upper and lower limit\n",
    "upper_limit = Q3 + 1.5 * IQR\n",
    "lower_limit = Q1 - 1.5 * IQR\n",
    "# Finding Outliers\n",
    "df1=df1[((df1['Petrol_tax']>lower_limit)&(df1['Petrol_tax']<upper_limit))]\n",
    "df1.shape"
   ]
  },
  {
   "cell_type": "markdown",
   "metadata": {},
   "source": [
    "#### Average_income"
   ]
  },
  {
   "cell_type": "code",
   "execution_count": 10,
   "metadata": {},
   "outputs": [
    {
     "name": "stdout",
     "output_type": "stream",
     "text": [
      "IQR of Average_income = 831.5\n"
     ]
    },
    {
     "data": {
      "text/plain": [
       "(46, 5)"
      ]
     },
     "execution_count": 10,
     "metadata": {},
     "output_type": "execute_result"
    }
   ],
   "source": [
    "#Finding the IQR\n",
    "Q1 = df1['Average_income'].quantile(0.25)\n",
    "Q3 = df1['Average_income'].quantile(0.75)\n",
    "IQR =Q3-Q1\n",
    "print('IQR of Average_income =', IQR)\n",
    "#Finding upper and lower limit\n",
    "upper_limit = Q3 + 1.5 * IQR\n",
    "lower_limit = Q1 - 1.5 * IQR\n",
    "# Finding Outliers\n",
    "df1=df1[((df1['Average_income']>lower_limit)&(df1['Average_income']<upper_limit))]\n",
    "df1.shape"
   ]
  },
  {
   "cell_type": "markdown",
   "metadata": {},
   "source": [
    "#### Paved_Highways"
   ]
  },
  {
   "cell_type": "code",
   "execution_count": 11,
   "metadata": {},
   "outputs": [
    {
     "name": "stdout",
     "output_type": "stream",
     "text": [
      "IQR of Paved_Highways = 4045.75\n"
     ]
    },
    {
     "data": {
      "text/plain": [
       "(45, 5)"
      ]
     },
     "execution_count": 11,
     "metadata": {},
     "output_type": "execute_result"
    }
   ],
   "source": [
    "#Finding the IQR\n",
    "Q1 = df['Paved_Highways'].quantile(0.25)\n",
    "Q3 = df['Paved_Highways'].quantile(0.75)\n",
    "IQR =Q3-Q1\n",
    "print('IQR of Paved_Highways =', IQR)\n",
    "#Finding upper and lower limit\n",
    "upper_limit = Q3 + 1.5 * IQR\n",
    "lower_limit = Q1 - 1.5 * IQR\n",
    "# Finding Outliers\n",
    "# Finding Outliers\n",
    "df1=df1[(df1['Paved_Highways']>lower_limit)&(df1['Paved_Highways']<upper_limit)]\n",
    "df1.shape"
   ]
  },
  {
   "cell_type": "markdown",
   "metadata": {},
   "source": [
    "#### Population_Driver_licence(%)"
   ]
  },
  {
   "cell_type": "code",
   "execution_count": 12,
   "metadata": {
    "id": "GOxYIZJHYd6P"
   },
   "outputs": [
    {
     "name": "stdout",
     "output_type": "stream",
     "text": [
      "IQR of Population_Driver_licence(%) = 0.06549999999999989\n"
     ]
    },
    {
     "data": {
      "text/plain": [
       "(44, 5)"
      ]
     },
     "execution_count": 12,
     "metadata": {},
     "output_type": "execute_result"
    }
   ],
   "source": [
    "#Finding the IQR\n",
    "Q1 = df['Population_Driver_licence(%)'].quantile(0.25)\n",
    "Q3 = df['Population_Driver_licence(%)'].quantile(0.75)\n",
    "IQR =Q3-Q1\n",
    "print('IQR of Population_Driver_licence(%) =', IQR)\n",
    "#Finding upper and lower limit\n",
    "upper_limit = Q3 + 1.5 * IQR\n",
    "lower_limit = Q1 - 1.5 * IQR\n",
    "# Finding Outliers\n",
    "df1=df1[((df1['Population_Driver_licence(%)']>lower_limit)&(df1['Population_Driver_licence(%)']<upper_limit))]\n",
    "df1.shape"
   ]
  },
  {
   "cell_type": "markdown",
   "metadata": {},
   "source": [
    "#### Petrol_Consumption"
   ]
  },
  {
   "cell_type": "code",
   "execution_count": 13,
   "metadata": {},
   "outputs": [
    {
     "name": "stdout",
     "output_type": "stream",
     "text": [
      "IQR of Petrol_Consumption = 123.25\n"
     ]
    },
    {
     "data": {
      "text/plain": [
       "(43, 5)"
      ]
     },
     "execution_count": 13,
     "metadata": {},
     "output_type": "execute_result"
    }
   ],
   "source": [
    "#Finding the IQR\n",
    "Q1 = df['Petrol_Consumption'].quantile(0.25)\n",
    "Q3 = df['Petrol_Consumption'].quantile(0.75)\n",
    "IQR =Q3-Q1\n",
    "print('IQR of Petrol_Consumption =', IQR)\n",
    "#Finding upper and lower limit\n",
    "upper_limit = Q3 + 1.5 * IQR\n",
    "lower_limit = Q1 - 1.5 * IQR\n",
    "# Finding Outliers\n",
    "# Finding Outliers\n",
    "df1=df1[(df1['Petrol_Consumption']>lower_limit)&(df1['Petrol_Consumption']<upper_limit)]\n",
    "df1.shape"
   ]
  },
  {
   "cell_type": "code",
   "execution_count": 14,
   "metadata": {},
   "outputs": [
    {
     "data": {
      "text/plain": [
       "<AxesSubplot:>"
      ]
     },
     "execution_count": 14,
     "metadata": {},
     "output_type": "execute_result"
    },
    {
     "data": {
      "image/png": "[encoded data removed]",
      "text/plain": [
       "<Figure size 842.4x595.44 with 1 Axes>"
      ]
     },
     "metadata": {},
     "output_type": "display_data"
    }
   ],
   "source": [
    "df1.boxplot()"
   ]
  },
  {
   "cell_type": "markdown",
   "metadata": {},
   "source": [
    "As we can see that we remove all outliers from our dataset by IQR method."
   ]
  },
  {
   "cell_type": "markdown",
   "metadata": {
    "id": "LEmpoBxxYd6l"
   },
   "source": [
    "# Question 3 - Transform the dataset \n",
    "Divide the data into feature(X) and target(Y) sets."
   ]
  },
  {
   "cell_type": "code",
   "execution_count": 15,
   "metadata": {
    "id": "aqjCG4hbYd6n"
   },
   "outputs": [
    {
     "data": {
      "image/png": "[encoded data removed]",
      "text/plain": [
       "<Figure size 1152x288 with 4 Axes>"
      ]
     },
     "metadata": {},
     "output_type": "display_data"
    }
   ],
   "source": [
    "# Let's see how Sales are related with other variables using scatter plot.\n",
    "sns.pairplot(df1, x_vars=['Petrol_tax', 'Average_income', 'Paved_Highways','Population_Driver_licence(%)'], y_vars='Petrol_Consumption', height=4, aspect=1, kind='scatter')\n",
    "plt.show()"
   ]
  },
  {
   "cell_type": "code",
   "execution_count": 16,
   "metadata": {},
   "outputs": [
    {
     "data": {
      "image/png": "[encoded data removed]",
      "text/plain": [
       "<Figure size 842.4x595.44 with 2 Axes>"
      ]
     },
     "metadata": {},
     "output_type": "display_data"
    }
   ],
   "source": [
    "sns.heatmap(df1.corr(), cmap=\"YlGnBu\", annot = True)\n",
    "plt.show()"
   ]
  },
  {
   "cell_type": "markdown",
   "metadata": {},
   "source": [
    "From the above Correlation Heatmap we can see that petrol consumption is highly correlated with \n",
    "the population driver licence (%) so we choose that column for our model."
   ]
  },
  {
   "cell_type": "code",
   "execution_count": 17,
   "metadata": {},
   "outputs": [],
   "source": [
    "y=df1['Petrol_Consumption']\n",
    "X=df1['Population_Driver_licence(%)']"
   ]
  },
  {
   "cell_type": "markdown",
   "metadata": {
    "id": "r_GsEM5aYd6v"
   },
   "source": [
    "# Question 4 - Split data into train, test sets \n",
    "Divide the data into training and test sets with 80-20 split using scikit-learn. Print the shapes of training and test feature sets."
   ]
  },
  {
   "cell_type": "code",
   "execution_count": 18,
   "metadata": {},
   "outputs": [],
   "source": [
    "from sklearn.model_selection import train_test_split\n",
    "X_train, X_test, y_train, y_test = train_test_split(X, y, train_size = 0.8, test_size = 0.2,random_state=0)"
   ]
  },
  {
   "cell_type": "code",
   "execution_count": 19,
   "metadata": {
    "id": "hl7Yb7jPYd6w"
   },
   "outputs": [
    {
     "name": "stdout",
     "output_type": "stream",
     "text": [
      "(34,) (34,)\n"
     ]
    }
   ],
   "source": [
    "print(X_train.shape,y_train.shape)"
   ]
  },
  {
   "cell_type": "code",
   "execution_count": 20,
   "metadata": {},
   "outputs": [
    {
     "name": "stdout",
     "output_type": "stream",
     "text": [
      "(9,) (9,)\n"
     ]
    }
   ],
   "source": [
    "print(X_test.shape,y_test.shape)"
   ]
  },
  {
   "cell_type": "code",
   "execution_count": 21,
   "metadata": {},
   "outputs": [
    {
     "data": {
      "text/plain": [
       "(34,)"
      ]
     },
     "execution_count": 21,
     "metadata": {},
     "output_type": "execute_result"
    }
   ],
   "source": [
    "X_train.shape"
   ]
  },
  {
   "cell_type": "markdown",
   "metadata": {
    "id": "DpNTZes9Yd65"
   },
   "source": [
    "# Question 5 - Build Model \n",
    "Estimate the coefficients for each input feature. Construct and display a dataframe with coefficients and X.columns as columns"
   ]
  },
  {
   "cell_type": "code",
   "execution_count": 22,
   "metadata": {
    "id": "557m4dbqYd67"
   },
   "outputs": [],
   "source": [
    "# Model Building \n",
    "import statsmodels.api as sm\n",
    "\n",
    "#Fitting the model \n",
    "model=sm.OLS(y_train,X_train).fit()"
   ]
  },
  {
   "cell_type": "code",
   "execution_count": 23,
   "metadata": {},
   "outputs": [
    {
     "name": "stdout",
     "output_type": "stream",
     "text": [
      "                                 OLS Regression Results                                \n",
      "=======================================================================================\n",
      "Dep. Variable:     Petrol_Consumption   R-squared (uncentered):                   0.987\n",
      "Model:                            OLS   Adj. R-squared (uncentered):              0.986\n",
      "Method:                 Least Squares   F-statistic:                              2482.\n",
      "Date:                Sun, 19 Jun 2022   Prob (F-statistic):                    1.22e-32\n",
      "Time:                        13:09:16   Log-Likelihood:                         -190.38\n",
      "No. Observations:                  34   AIC:                                      382.8\n",
      "Df Residuals:                      33   BIC:                                      384.3\n",
      "Df Model:                           1                                                  \n",
      "Covariance Type:            nonrobust                                                  \n",
      "================================================================================================\n",
      "                                   coef    std err          t      P>|t|      [0.025      0.975]\n",
      "------------------------------------------------------------------------------------------------\n",
      "Population_Driver_licence(%)   992.2780     19.916     49.823      0.000     951.759    1032.797\n",
      "==============================================================================\n",
      "Omnibus:                        2.904   Durbin-Watson:                   2.283\n",
      "Prob(Omnibus):                  0.234   Jarque-Bera (JB):                2.038\n",
      "Skew:                           0.596   Prob(JB):                        0.361\n",
      "Kurtosis:                       3.135   Cond. No.                         1.00\n",
      "==============================================================================\n",
      "\n",
      "Notes:\n",
      "[1] R² is computed without centering (uncentered) since the model does not contain a constant.\n",
      "[2] Standard Errors assume that the covariance matrix of the errors is correctly specified.\n"
     ]
    }
   ],
   "source": [
    "# Performing a summary operation lists out all the different parameters of the regression line fitted\n",
    "print(model.summary())"
   ]
  },
  {
   "cell_type": "markdown",
   "metadata": {
    "id": "C-R_8oIoYd7N"
   },
   "source": [
    "# R-Square "
   ]
  },
  {
   "cell_type": "markdown",
   "metadata": {
    "id": "YblKiaRCYd7O"
   },
   "source": [
    "# Question 6 - Evaluate the model \n",
    "Calculate the accuracy score for the above model."
   ]
  },
  {
   "cell_type": "code",
   "execution_count": 24,
   "metadata": {
    "id": "AtNwAHsBYd7R"
   },
   "outputs": [],
   "source": [
    "# Predict the y values corresponding to X_test\n",
    "y_pred = model.predict(X_test)"
   ]
  },
  {
   "cell_type": "code",
   "execution_count": 25,
   "metadata": {},
   "outputs": [
    {
     "data": {
      "text/plain": [
       "0.035835997697743704"
      ]
     },
     "execution_count": 25,
     "metadata": {},
     "output_type": "execute_result"
    }
   ],
   "source": [
    "# Checking the R squared on test set\n",
    "from sklearn.metrics import r2_score\n",
    "r_squared = r2_score(y_test, y_pred)\n",
    "r_squared"
   ]
  },
  {
   "cell_type": "markdown",
   "metadata": {},
   "source": [
    "# Repeat the same Multi linear regression modelling by adding Population_Driver_licence(%), Income and Highway features\n",
    "Find R2 "
   ]
  },
  {
   "cell_type": "code",
   "execution_count": 26,
   "metadata": {
    "id": "l0fjBf0BYd7f"
   },
   "outputs": [
    {
     "name": "stdout",
     "output_type": "stream",
     "text": [
      "(30, 4) (30,)\n",
      "(13, 4) (13,)\n"
     ]
    }
   ],
   "source": [
    "Y=df1.Petrol_Consumption\n",
    "X=df1.drop(['Petrol_Consumption'],axis=1)\n",
    "X_train,X_test,Y_train,Y_test=train_test_split(X,Y,test_size=0.3,random_state =0)\n",
    "print(X_train.shape,Y_train.shape)\n",
    "print(X_test.shape,Y_test.shape)"
   ]
  },
  {
   "cell_type": "code",
   "execution_count": 27,
   "metadata": {
    "id": "l8V3E53TYd7m"
   },
   "outputs": [
    {
     "name": "stdout",
     "output_type": "stream",
     "text": [
      "                                 OLS Regression Results                                \n",
      "=======================================================================================\n",
      "Dep. Variable:     Petrol_Consumption   R-squared (uncentered):                   0.990\n",
      "Model:                            OLS   Adj. R-squared (uncentered):              0.988\n",
      "Method:                 Least Squares   F-statistic:                              616.2\n",
      "Date:                Sun, 19 Jun 2022   Prob (F-statistic):                    2.42e-25\n",
      "Time:                        13:09:16   Log-Likelihood:                         -164.82\n",
      "No. Observations:                  30   AIC:                                      337.6\n",
      "Df Residuals:                      26   BIC:                                      343.2\n",
      "Df Model:                           4                                                  \n",
      "Covariance Type:            nonrobust                                                  \n",
      "================================================================================================\n",
      "                                   coef    std err          t      P>|t|      [0.025      0.975]\n",
      "------------------------------------------------------------------------------------------------\n",
      "Petrol_tax                      -4.4659      9.504     -0.470      0.642     -24.001      15.069\n",
      "Average_income                  -0.0501      0.019     -2.593      0.015      -0.090      -0.010\n",
      "Paved_Highways                   0.0016      0.004      0.413      0.683      -0.006       0.010\n",
      "Population_Driver_licence(%)  1410.2224    153.058      9.214      0.000    1095.607    1724.837\n",
      "==============================================================================\n",
      "Omnibus:                        5.950   Durbin-Watson:                   2.102\n",
      "Prob(Omnibus):                  0.051   Jarque-Bera (JB):                4.845\n",
      "Skew:                           0.980   Prob(JB):                       0.0887\n",
      "Kurtosis:                       3.196   Cond. No.                     9.68e+04\n",
      "==============================================================================\n",
      "\n",
      "Notes:\n",
      "[1] R² is computed without centering (uncentered) since the model does not contain a constant.\n",
      "[2] Standard Errors assume that the covariance matrix of the errors is correctly specified.\n",
      "[3] The condition number is large, 9.68e+04. This might indicate that there are\n",
      "strong multicollinearity or other numerical problems.\n"
     ]
    }
   ],
   "source": [
    "model=sm.OLS(Y_train,X_train).fit()\n",
    "print(model.summary())"
   ]
  },
  {
   "cell_type": "code",
   "execution_count": 28,
   "metadata": {},
   "outputs": [],
   "source": [
    "# Predict the y values corresponding to X_test_sm\n",
    "Y_pred = model.predict(X_test)"
   ]
  },
  {
   "cell_type": "code",
   "execution_count": 29,
   "metadata": {},
   "outputs": [
    {
     "data": {
      "text/plain": [
       "0.38719268920673666"
      ]
     },
     "execution_count": 29,
     "metadata": {},
     "output_type": "execute_result"
    }
   ],
   "source": [
    "# Checking the R squared on test set\n",
    "from sklearn.metrics import r2_score\n",
    "r_squared = r2_score(Y_test, Y_pred)\n",
    "r_squared"
   ]
  },
  {
   "cell_type": "markdown",
   "metadata": {
    "id": "SGafsJHKYd7q"
   },
   "source": [
    "# Question 8: Print the coefficients of the multilinear regression model"
   ]
  },
  {
   "cell_type": "code",
   "execution_count": 30,
   "metadata": {
    "id": "w0lsEZ5WYd7r"
   },
   "outputs": [
    {
     "data": {
      "text/plain": [
       "LinearRegression()"
      ]
     },
     "execution_count": 30,
     "metadata": {},
     "output_type": "execute_result"
    }
   ],
   "source": [
    "from sklearn.linear_model import LinearRegression\n",
    "regressor = LinearRegression()\n",
    "regressor.fit(X_train, Y_train)"
   ]
  },
  {
   "cell_type": "code",
   "execution_count": 31,
   "metadata": {
    "id": "kwuH1Z5ZYd7v"
   },
   "outputs": [
    {
     "data": {
      "text/plain": [
       "array([-4.85092410e+01, -8.60668301e-02, -4.24564300e-03,  8.39706647e+02])"
      ]
     },
     "execution_count": 31,
     "metadata": {},
     "output_type": "execute_result"
    }
   ],
   "source": [
    "regressor.coef_"
   ]
  },
  {
   "cell_type": "markdown",
   "metadata": {
    "id": "H0pZXrZ1Yd71"
   },
   "source": [
    "# Question 9 \n",
    "In one or two sentences give reasoning on R-Square on the basis of above findings\n",
    "Answer"
   ]
  },
  {
   "cell_type": "markdown",
   "metadata": {
    "id": "RIDidBSNx3W3"
   },
   "source": [
    "When there is only one independent variable Population_Driver_licence(%) in our regression model \n",
    "for train data the value for r square in model summery is 0.987 and \n",
    "for test data the value for r square is 0.035.\n",
    "\n",
    "When we run the regression model on all independent variable like Petrol_tax, Average_income, Paved_Highways and Population_Driver_licence(%)\n",
    "for train data the value for r square in model summery is 0.990 and \n",
    "for test data the value for r square is 0.387.\n",
    "        \n",
    "As we have very less data for analysis therefore r square value is severely affected.\n"
   ]
  }
 ],
 "metadata": {
  "colab": {
   "name": "Regression Assignment_petrol_data-Question.ipynb",
   "provenance": []
  },
  "kernelspec": {
   "display_name": "Python 3 (ipykernel)",
   "language": "python",
   "name": "python3"
  },
  "language_info": {
   "codemirror_mode": {
    "name": "ipython",
    "version": 3
   },
   "file_extension": ".py",
   "mimetype": "text/x-python",
   "name": "python",
   "nbconvert_exporter": "python",
   "pygments_lexer": "ipython3",
   "version": "3.10.2"
  }
 },
 "nbformat": 4,
 "nbformat_minor": 1
}
